{
 "cells": [
  {
   "cell_type": "markdown",
   "id": "624af4c8-2c1a-45c8-9ff3-dc6d59a1aedc",
   "metadata": {},
   "source": [
    "# Data Science Tools and Ecosystem"
   ]
  },
  {
   "cell_type": "markdown",
   "id": "bf2db021-584b-496e-a40c-9fe8fd3fa316",
   "metadata": {},
   "source": [
    "In this notebook, Data Science Tools and Ecosystem are summarized."
   ]
  },
  {
   "cell_type": "markdown",
   "id": "2c2b6648-f517-497c-b004-7066c44d7f52",
   "metadata": {},
   "source": [
    "**Objectives:**\n",
    "\n",
    "- List popular languages for data science.\n",
    "- Explore commonly used data science librraries.\n",
    "- Create a table of data science tools.\n",
    "- Convert minutes to hours in a code cell."
   ]
  },
  {
   "cell_type": "markdown",
   "id": "4dba1f75-6d4c-44fc-8858-bd11a2305bde",
   "metadata": {
    "tags": []
   },
   "source": [
    "Some of the popular languages that data scientists use are:\n",
    "    \n",
    "    1. Python\n",
    "    2. R\n",
    "    3. Julia"
   ]
  },
  {
   "cell_type": "markdown",
   "id": "9f5e8912-eba9-4d20-a3d0-62dcd79b5a25",
   "metadata": {
    "tags": []
   },
   "source": [
    "Some of the commonly used libraries used by Data Scientists include:\n",
    "    \n",
    "    1. NumPy\n",
    "    2. Pandas\n",
    "    3. Matplotlib\n",
    "    4. Seaborn"
   ]
  },
  {
   "cell_type": "markdown",
   "id": "79a33d15-27ff-486c-87c7-bedfd479940a",
   "metadata": {},
   "source": [
    "| Data Science Tools |\n",
    "|--------------------|\n",
    "|Jupyter Notebooks|\n",
    "|R Studio|\n",
    "|Spyder|"
   ]
  },
  {
   "cell_type": "markdown",
   "id": "0d455916-724e-4f6e-8306-6dc328850131",
   "metadata": {},
   "source": [
    "### Below are a few examples of evaluating arithmetic expressions in Python."
   ]
  },
  {
   "cell_type": "code",
   "execution_count": 4,
   "id": "36ac577e-1e21-45f0-86c8-142691dbb515",
   "metadata": {
    "tags": []
   },
   "outputs": [
    {
     "data": {
      "text/plain": [
       "17"
      ]
     },
     "execution_count": 4,
     "metadata": {},
     "output_type": "execute_result"
    }
   ],
   "source": [
    "# This a simple arithmetic expression to mutiply then add integers.\n",
    "\n",
    "(3*4)+5"
   ]
  },
  {
   "cell_type": "code",
   "execution_count": 8,
   "id": "0c4df596-6e18-4cc4-a13b-5be7e38a73d9",
   "metadata": {
    "tags": []
   },
   "outputs": [
    {
     "data": {
      "text/plain": [
       "3.3333333333333335"
      ]
     },
     "execution_count": 8,
     "metadata": {},
     "output_type": "execute_result"
    }
   ],
   "source": [
    "# This will convert 200 minutes to hours by diving by 60.\n",
    "200/60"
   ]
  },
  {
   "cell_type": "markdown",
   "id": "132b0515-eadd-46ad-a860-cbe8ec4906b3",
   "metadata": {},
   "source": [
    "## Author\n",
    "Sudheer Kumar Tentu"
   ]
  }
 ],
 "metadata": {
  "kernelspec": {
   "display_name": "Python",
   "language": "python",
   "name": "conda-env-python-py"
  },
  "language_info": {
   "codemirror_mode": {
    "name": "ipython",
    "version": 3
   },
   "file_extension": ".py",
   "mimetype": "text/x-python",
   "name": "python",
   "nbconvert_exporter": "python",
   "pygments_lexer": "ipython3",
   "version": "3.7.12"
  }
 },
 "nbformat": 4,
 "nbformat_minor": 5
}
